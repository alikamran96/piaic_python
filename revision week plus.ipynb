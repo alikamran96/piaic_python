{
  "nbformat": 4,
  "nbformat_minor": 0,
  "metadata": {
    "colab": {
      "name": "Untitled1.ipynb",
      "provenance": [],
      "include_colab_link": true
    },
    "kernelspec": {
      "name": "python3",
      "display_name": "Python 3"
    }
  },
  "cells": [
    {
      "cell_type": "markdown",
      "metadata": {
        "id": "view-in-github",
        "colab_type": "text"
      },
      "source": [
        "<a href=\"https://colab.research.google.com/github/alikamran96/piaic_python/blob/master/revision%20week%20plus.ipynb\" target=\"_parent\"><img src=\"https://colab.research.google.com/assets/colab-badge.svg\" alt=\"Open In Colab\"/></a>"
      ]
    },
    {
      "cell_type": "code",
      "metadata": {
        "id": "u_2zst_5OzkR",
        "colab_type": "code",
        "colab": {
          "base_uri": "https://localhost:8080/",
          "height": 50
        },
        "outputId": "85d23f48-e81c-4728-dd0d-4a998a54e796"
      },
      "source": [
        "marks = int(input(\"enter marks\"))\n",
        "\n",
        "if marks >=80 and marks <=100: \n",
        "    print(\"your grade is A\")\n",
        "elif marks >=70 and marks <=79:\n",
        "    print (\"your grade is B\")\n",
        "elif marks >=60 and marks <=69:\n",
        "    print (\"your grade is C\")\n",
        "elif marks >=50 and marks <=59: \n",
        "    print (\"your grade is C\")\n",
        "else:\n",
        "    print (\"your grade is E\")         "
      ],
      "execution_count": 13,
      "outputs": [
        {
          "output_type": "stream",
          "text": [
            "enter marks98\n",
            "your grade is A\n"
          ],
          "name": "stdout"
        }
      ]
    },
    {
      "cell_type": "code",
      "metadata": {
        "id": "k08nYXi8ZPFM",
        "colab_type": "code",
        "colab": {
          "base_uri": "https://localhost:8080/",
          "height": 162
        },
        "outputId": "5567afd2-0f64-491d-9eb8-8f4461b38303"
      },
      "source": [
        "scratch = boolean(input())"
      ],
      "execution_count": 14,
      "outputs": [
        {
          "output_type": "error",
          "ename": "NameError",
          "evalue": "ignored",
          "traceback": [
            "\u001b[0;31m---------------------------------------------------------------------------\u001b[0m",
            "\u001b[0;31mNameError\u001b[0m                                 Traceback (most recent call last)",
            "\u001b[0;32m<ipython-input-14-75bd9e2197e8>\u001b[0m in \u001b[0;36m<module>\u001b[0;34m()\u001b[0m\n\u001b[0;32m----> 1\u001b[0;31m \u001b[0mscratch\u001b[0m \u001b[0;34m=\u001b[0m \u001b[0mboolean\u001b[0m\u001b[0;34m(\u001b[0m\u001b[0minput\u001b[0m\u001b[0;34m(\u001b[0m\u001b[0;34m)\u001b[0m\u001b[0;34m)\u001b[0m\u001b[0;34m\u001b[0m\u001b[0;34m\u001b[0m\u001b[0m\n\u001b[0m",
            "\u001b[0;31mNameError\u001b[0m: name 'boolean' is not defined"
          ]
        }
      ]
    }
  ]
}