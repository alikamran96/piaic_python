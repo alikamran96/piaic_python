{
  "nbformat": 4,
  "nbformat_minor": 0,
  "metadata": {
    "colab": {
      "name": "Untitled2.ipynb",
      "provenance": [],
      "include_colab_link": true
    },
    "kernelspec": {
      "name": "python3",
      "display_name": "Python 3"
    }
  },
  "cells": [
    {
      "cell_type": "markdown",
      "metadata": {
        "id": "view-in-github",
        "colab_type": "text"
      },
      "source": [
        "<a href=\"https://colab.research.google.com/github/alikamran96/piaic_python/blob/master/FUNCTIONS.ipynb\" target=\"_parent\"><img src=\"https://colab.research.google.com/assets/colab-badge.svg\" alt=\"Open In Colab\"/></a>"
      ]
    },
    {
      "cell_type": "markdown",
      "metadata": {
        "id": "YT1d8k7h1Bqv",
        "colab_type": "text"
      },
      "source": [
        ""
      ]
    },
    {
      "cell_type": "markdown",
      "metadata": {
        "id": "XWSv-mrFSmSW",
        "colab_type": "text"
      },
      "source": [
        "FUNCTION\n"
      ]
    },
    {
      "cell_type": "code",
      "metadata": {
        "id": "b5JBh41tTR1K",
        "colab_type": "code",
        "colab": {
          "base_uri": "https://localhost:8080/",
          "height": 67
        },
        "outputId": "2a06e968-77fb-4fb4-c694-1481bd545057"
      },
      "source": [
        "print (\"pak zinda\")\n",
        "print (\"we are pakis\")\n",
        "print (\"we love pak\")\n"
      ],
      "execution_count": 1,
      "outputs": [
        {
          "output_type": "stream",
          "text": [
            "pak zinda\n",
            "we are pakis\n",
            "we love pak\n"
          ],
          "name": "stdout"
        }
      ]
    },
    {
      "cell_type": "code",
      "metadata": {
        "id": "ZcnhPqQqS2W3",
        "colab_type": "code",
        "colab": {
          "base_uri": "https://localhost:8080/",
          "height": 118
        },
        "outputId": "5eb33397-a10d-4d05-b730-fe8f1ccd100f"
      },
      "source": [
        " def abc():\n",
        "   #body start indentation\n",
        "   print (\"pak zinda\")\n",
        "   print (\"we are pakis\")\n",
        "   print (\"we love pak\") \n",
        "    \n",
        "abc()\n",
        "abc()\n",
        "\n",
        "\n"
      ],
      "execution_count": 3,
      "outputs": [
        {
          "output_type": "stream",
          "text": [
            "pak zinda\n",
            "we are pakis\n",
            "we love pak\n",
            "pak zinda\n",
            "we are pakis\n",
            "we love pak\n"
          ],
          "name": "stdout"
        }
      ]
    },
    {
      "cell_type": "code",
      "metadata": {
        "id": "rCgWFmnOcSTb",
        "colab_type": "code",
        "colab": {
          "base_uri": "https://localhost:8080/",
          "height": 151
        },
        "outputId": "e0bf3430-84c9-4083-f1ff-8eefefff20e6"
      },
      "source": [
        "\n",
        "def id_card(sid, sname, fname, course, timing):\n",
        "  print(\n",
        "      f\"\"\"\n",
        "      PIAIC Islamabad\n",
        "      student id: {sid}\n",
        "      student name: {sname}\n",
        "      father NAme: {fname}\n",
        "      Course: {course}\n",
        "      Timing: {timing}\n",
        "      \"\"\"\n",
        "  )\n",
        "id_card(\"1\", \"Ali\", \"sd\", \"AI\", \"9 to 11\")  \n"
      ],
      "execution_count": 11,
      "outputs": [
        {
          "output_type": "stream",
          "text": [
            "\n",
            "      PIAIC Islamabad\n",
            "      student id: 1\n",
            "      student name: Ali\n",
            "      father NAme: sd\n",
            "      Course: AI\n",
            "      Timing: 9 to 11\n",
            "      \n"
          ],
          "name": "stdout"
        }
      ]
    },
    {
      "cell_type": "code",
      "metadata": {
        "id": "7vphZHYydjsk",
        "colab_type": "code",
        "colab": {}
      },
      "source": [
        "data = [1. a, AS, E ,f\n",
        "        ]"
      ],
      "execution_count": 0,
      "outputs": []
    },
    {
      "cell_type": "code",
      "metadata": {
        "id": "N4EjUTG0exYq",
        "colab_type": "code",
        "colab": {
          "base_uri": "https://localhost:8080/",
          "height": 50
        },
        "outputId": "aedd0b7c-82b5-47aa-8ee7-b9242f044cc7"
      },
      "source": [
        "def pl(x,y,z):\n",
        "  print(x,y,z)\n",
        "  print(x +y+z)\n",
        "pl(5,6,7)"
      ],
      "execution_count": 12,
      "outputs": [
        {
          "output_type": "stream",
          "text": [
            "5 6 7\n",
            "18\n"
          ],
          "name": "stdout"
        }
      ]
    },
    {
      "cell_type": "code",
      "metadata": {
        "id": "WsIst5WjfP7c",
        "colab_type": "code",
        "colab": {
          "base_uri": "https://localhost:8080/",
          "height": 118
        },
        "outputId": "92fbc92f-6271-4fc8-a98e-a99ecadfee98"
      },
      "source": [
        "def pl(x,y=0,z=0):#y and z here are optionnal arguments\n",
        "  print(x,y,z)\n",
        "  print(x +y+z)\n",
        "pl(5)\n",
        "pl(5,7) \n",
        "pl(5,7,8) "
      ],
      "execution_count": 15,
      "outputs": [
        {
          "output_type": "stream",
          "text": [
            "5 0 0\n",
            "5\n",
            "5 7 0\n",
            "12\n",
            "5 7 8\n",
            "20\n"
          ],
          "name": "stdout"
        }
      ]
    },
    {
      "cell_type": "code",
      "metadata": {
        "id": "Ie_olyYlhOUG",
        "colab_type": "code",
        "colab": {
          "base_uri": "https://localhost:8080/",
          "height": 34
        },
        "outputId": "bbdcaf14-bea4-4747-e65b-9e99de2d5767"
      },
      "source": [
        "#return function\n",
        "def plus(r,s,t):\n",
        "  return r+s+t\n",
        "a=plus(5,6,8)\n",
        "print(a)  "
      ],
      "execution_count": 20,
      "outputs": [
        {
          "output_type": "stream",
          "text": [
            "19\n"
          ],
          "name": "stdout"
        }
      ]
    },
    {
      "cell_type": "code",
      "metadata": {
        "id": "8gnOJ-ICh83z",
        "colab_type": "code",
        "colab": {
          "base_uri": "https://localhost:8080/",
          "height": 151
        },
        "outputId": "f4eda80c-874f-4a78-8a76-ff75550bc7a3"
      },
      "source": [
        "#return function as variable h has some value and it is not none.\n",
        "def id_card(sid, sname, fname, course, timing):\n",
        "  return(\n",
        "      f\"\"\"\n",
        "      PIAIC Islamabad\n",
        "      student id: {sid}\n",
        "      student name: {sname}\n",
        "      father NAme: {fname}\n",
        "      Course: {course}\n",
        "      Timing: {timing}\n",
        "      \"\"\"\n",
        "  )\n",
        "h=id_card(\"1\", \"Ali\", \"sd\", \"AI\", \"9 to 11\")  \n",
        "print(h)"
      ],
      "execution_count": 21,
      "outputs": [
        {
          "output_type": "stream",
          "text": [
            "\n",
            "      PIAIC Islamabad\n",
            "      student id: 1\n",
            "      student name: Ali\n",
            "      father NAme: sd\n",
            "      Course: AI\n",
            "      Timing: 9 to 11\n",
            "      \n"
          ],
          "name": "stdout"
        }
      ]
    },
    {
      "cell_type": "markdown",
      "metadata": {
        "id": "CANgKpUZjCvK",
        "colab_type": "text"
      },
      "source": [
        "position argument"
      ]
    },
    {
      "cell_type": "code",
      "metadata": {
        "id": "ZBx5CN-mjH6H",
        "colab_type": "code",
        "colab": {
          "base_uri": "https://localhost:8080/",
          "height": 151
        },
        "outputId": "149fb1bb-2bec-43c2-fc2c-09688d388db6"
      },
      "source": [
        "def id_card(sid, sname, fname, course, timing):\n",
        "  print(\n",
        "      f\"\"\"\n",
        "      PIAIC Islamabad\n",
        "      student id: {sid}\n",
        "      student name: {sname}\n",
        "      father NAme: {fname}\n",
        "      Course: {course}\n",
        "      Timing: {timing}\n",
        "      \"\"\"\n",
        "  )\n",
        "id_card(sname=\"Ali\",sid=\"1\" ,course=\"AI\", timing=\"9 to 11\", fname=\"sn\")  \n",
        "\n",
        "#keyword argument, with keyword argument you can enter out of order and still get result."
      ],
      "execution_count": 23,
      "outputs": [
        {
          "output_type": "stream",
          "text": [
            "\n",
            "      PIAIC Islamabad\n",
            "      student id: 1\n",
            "      student name: Ali\n",
            "      father NAme: sn\n",
            "      Course: AI\n",
            "      Timing: 9 to 11\n",
            "      \n"
          ],
          "name": "stdout"
        }
      ]
    },
    {
      "cell_type": "code",
      "metadata": {
        "id": "_wbpTherqz8y",
        "colab_type": "code",
        "colab": {}
      },
      "source": [
        "l1=[\"1\", \"fgh\", \"xyz\", \"A.I\", \"5 to 7\"]\n"
      ],
      "execution_count": 0,
      "outputs": []
    },
    {
      "cell_type": "code",
      "metadata": {
        "id": "Bhcg0ismthQ2",
        "colab_type": "code",
        "colab": {
          "base_uri": "https://localhost:8080/",
          "height": 67
        },
        "outputId": "5a2349e8-6e07-42f8-a585-a0257fec9bb4"
      },
      "source": [
        "def qwe(name, *number):\n",
        "  print(name)\n",
        "  print(number)\n",
        "  print(sum(number))\n",
        "qwe(\"qasim\", 5,4,6,2)  "
      ],
      "execution_count": 25,
      "outputs": [
        {
          "output_type": "stream",
          "text": [
            "qasim\n",
            "(5, 4, 6, 2)\n",
            "17\n"
          ],
          "name": "stdout"
        }
      ]
    },
    {
      "cell_type": "code",
      "metadata": {
        "id": "b0jQA7wXwqTT",
        "colab_type": "code",
        "colab": {
          "base_uri": "https://localhost:8080/",
          "height": 34
        },
        "outputId": "862a65cc-ff0a-4803-adf6-6156e2193c49"
      },
      "source": [
        "### RECURSIVE FUNCTION\n",
        "def rty(n):\n",
        "   if n == 1:\n",
        "     return 1\n",
        "   return n + rty(n-1)\n",
        "rty(5)    \n",
        "#recu\n"
      ],
      "execution_count": 33,
      "outputs": [
        {
          "output_type": "execute_result",
          "data": {
            "text/plain": [
              "15"
            ]
          },
          "metadata": {
            "tags": []
          },
          "execution_count": 33
        }
      ]
    },
    {
      "cell_type": "code",
      "metadata": {
        "id": "8WoZsd50xd6I",
        "colab_type": "code",
        "colab": {
          "base_uri": "https://localhost:8080/",
          "height": 84
        },
        "outputId": "4a0b9713-cd92-42ab-b3ce-2d4e4b1956fc"
      },
      "source": [
        "def my_range(n):\n",
        "  for i in range(1, n+1):\n",
        "    yield i\n",
        "a=my_range(7) \n",
        "a=my_range(10)\n",
        "\n",
        "print(next(a))\n",
        "print(next(a))\n",
        "print(next(a))\n",
        "print(next(a))   \n"
      ],
      "execution_count": 34,
      "outputs": [
        {
          "output_type": "stream",
          "text": [
            "1\n",
            "2\n",
            "3\n",
            "4\n"
          ],
          "name": "stdout"
        }
      ]
    },
    {
      "cell_type": "code",
      "metadata": {
        "id": "qtXMcv6azB_w",
        "colab_type": "code",
        "colab": {
          "base_uri": "https://localhost:8080/",
          "height": 34
        },
        "outputId": "4e19e617-4d06-4b50-835a-24b5b552b7c6"
      },
      "source": [
        "def abc(x,y):\n",
        "  return x+y\n",
        "\n",
        "abc(5,7)\n"
      ],
      "execution_count": 35,
      "outputs": [
        {
          "output_type": "execute_result",
          "data": {
            "text/plain": [
              "12"
            ]
          },
          "metadata": {
            "tags": []
          },
          "execution_count": 35
        }
      ]
    },
    {
      "cell_type": "code",
      "metadata": {
        "id": "yt7UVVMGzYSQ",
        "colab_type": "code",
        "colab": {
          "base_uri": "https://localhost:8080/",
          "height": 34
        },
        "outputId": "070073bb-c34a-4d21-ac41-ab72ab6c1c6c"
      },
      "source": [
        "abc = lambda x,y,z: x+y+z\n",
        "abc(5,6,7)"
      ],
      "execution_count": 37,
      "outputs": [
        {
          "output_type": "execute_result",
          "data": {
            "text/plain": [
              "18"
            ]
          },
          "metadata": {
            "tags": []
          },
          "execution_count": 37
        }
      ]
    }
  ]
}