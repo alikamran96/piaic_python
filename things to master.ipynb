{
  "nbformat": 4,
  "nbformat_minor": 0,
  "metadata": {
    "colab": {
      "name": "Untitled6.ipynb",
      "provenance": [],
      "authorship_tag": "ABX9TyOIO726uDxJT+xvPkhpferH",
      "include_colab_link": true
    },
    "kernelspec": {
      "name": "python3",
      "display_name": "Python 3"
    }
  },
  "cells": [
    {
      "cell_type": "markdown",
      "metadata": {
        "id": "view-in-github",
        "colab_type": "text"
      },
      "source": [
        "<a href=\"https://colab.research.google.com/github/alikamran96/piaic_python/blob/master/things%20to%20master.ipynb\" target=\"_parent\"><img src=\"https://colab.research.google.com/assets/colab-badge.svg\" alt=\"Open In Colab\"/></a>"
      ]
    },
    {
      "cell_type": "markdown",
      "metadata": {
        "id": "SDwN2MXZcPVR",
        "colab_type": "text"
      },
      "source": [
        "Web Scraping\n",
        "\n",
        "Selenium\n",
        "\n",
        "BeautifulSoup\n",
        "\n",
        "Pyqt5\n",
        "\n",
        "Upwork\n",
        "\n",
        "Fiverr\n",
        "\n",
        "\n",
        "cmd> pip\n"
      ]
    },
    {
      "cell_type": "code",
      "metadata": {
        "id": "MJMbdAtZcMIp",
        "colab_type": "code",
        "colab": {}
      },
      "source": [
        ""
      ],
      "execution_count": 0,
      "outputs": []
    }
  ]
}