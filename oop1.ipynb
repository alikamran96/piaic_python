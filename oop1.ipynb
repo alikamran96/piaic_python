{
  "nbformat": 4,
  "nbformat_minor": 0,
  "metadata": {
    "colab": {
      "name": "Untitled3.ipynb",
      "provenance": [],
      "collapsed_sections": [],
      "include_colab_link": true
    },
    "kernelspec": {
      "name": "python3",
      "display_name": "Python 3"
    }
  },
  "cells": [
    {
      "cell_type": "markdown",
      "metadata": {
        "id": "view-in-github",
        "colab_type": "text"
      },
      "source": [
        "<a href=\"https://colab.research.google.com/github/alikamran96/piaic_python/blob/master/oop1.ipynb\" target=\"_parent\"><img src=\"https://colab.research.google.com/assets/colab-badge.svg\" alt=\"Open In Colab\"/></a>"
      ]
    },
    {
      "cell_type": "markdown",
      "metadata": {
        "id": "xF8QNEs3UErR",
        "colab_type": "text"
      },
      "source": [
        "### Object Oriented Programming###\n",
        " \n",
        "1. Inheritance\n",
        "\n",
        "2. Polymorphism\n",
        "\n",
        "3. Encapsulation\n",
        "\n",
        "4. Abstraction\n",
        " "
      ]
    },
    {
      "cell_type": "code",
      "metadata": {
        "id": "Cmt4dYIYOmwR",
        "colab_type": "code",
        "colab": {}
      },
      "source": [
        "s1name = \"An\"\n",
        "s1fname = \"Af\"\n",
        "s1age = 20\n",
        "def s1speaks(): pass\n",
        "def s1listing(): pass\n",
        "def e2ting(): pass"
      ],
      "execution_count": 0,
      "outputs": []
    },
    {
      "cell_type": "code",
      "metadata": {
        "id": "Y0gGbUDXg20g",
        "colab_type": "code",
        "colab": {}
      },
      "source": [
        "###oop###\n",
        "class student(): #class\n",
        "  pass           #class definition\n",
        "\n",
        "s1 = student()   #instance/obj calling constructor\n",
        "s2 = student()\n",
        "s3 = student()"
      ],
      "execution_count": 0,
      "outputs": []
    },
    {
      "cell_type": "code",
      "metadata": {
        "id": "DcnAZLUThfJG",
        "colab_type": "code",
        "colab": {
          "base_uri": "https://localhost:8080/",
          "height": 34
        },
        "outputId": "969c5757-26af-405f-8041-c66203a8f5b0"
      },
      "source": [
        "class student():               #class\n",
        "  def __init__(self, sid, name):     #constructor\n",
        "    self.sid = sid             #attributes/prpoerties/datamember/field\n",
        "    self.name = name\n",
        "    self.fname = \"\"\n",
        "    self.age = 0\n",
        "\n",
        "def login(self, user, password):\n",
        "  self.name = user\n",
        "  print(\"welcome\", self.name)\n",
        "\n",
        "def logout(self): pass  #method\n",
        "\n",
        "def quiz_attempt(self):\n",
        "  pass\n",
        "s1 = student(1, \"Ali\")\n",
        "s1.name   "
      ],
      "execution_count": 2,
      "outputs": [
        {
          "output_type": "execute_result",
          "data": {
            "text/plain": [
              "'Ali'"
            ]
          },
          "metadata": {
            "tags": []
          },
          "execution_count": 2
        }
      ]
    },
    {
      "cell_type": "code",
      "metadata": {
        "id": "zYWClo1Hjt1J",
        "colab_type": "code",
        "colab": {
          "base_uri": "https://localhost:8080/",
          "height": 34
        },
        "outputId": "83dc656e-9269-457e-a07e-9dce6f95efe3"
      },
      "source": [
        "s1 = student(1, \"Ali\")\n",
        "s1.name"
      ],
      "execution_count": 4,
      "outputs": [
        {
          "output_type": "execute_result",
          "data": {
            "text/plain": [
              "'Ali'"
            ]
          },
          "metadata": {
            "tags": []
          },
          "execution_count": 4
        }
      ]
    },
    {
      "cell_type": "markdown",
      "metadata": {
        "id": "d4f80gCrklJR",
        "colab_type": "text"
      },
      "source": [
        "##Class Variable##\n"
      ]
    },
    {
      "cell_type": "code",
      "metadata": {
        "id": "nYVaoJ53ki3u",
        "colab_type": "code",
        "colab": {
          "base_uri": "https://localhost:8080/",
          "height": 34
        },
        "outputId": "48b41b41-61e5-4af5-c45e-d15e325b3799"
      },
      "source": [
        "class A():\n",
        "  counter = 0  #class variable\n",
        "  def __init__(self):\n",
        "    \n",
        "    self.id = A.counter + 1\n",
        "    self.name = \"\" \n",
        "    self.fname =\"\"\n",
        "    \n",
        "    A.counter += 1 #update class variable  \n",
        "obj1= A()\n",
        "obj1.id\n",
        "obj1 = A()\n",
        "obj2 = A()\n",
        "obj3 = A()\n",
        " \n",
        "#obj1.counter #calling class variable with obj ref\n",
        "#A.counter   # calling class variable with class ref\n"
      ],
      "execution_count": 19,
      "outputs": [
        {
          "output_type": "execute_result",
          "data": {
            "text/plain": [
              "4"
            ]
          },
          "metadata": {
            "tags": []
          },
          "execution_count": 19
        }
      ]
    },
    {
      "cell_type": "code",
      "metadata": {
        "id": "XoDA7MDSmwk7",
        "colab_type": "code",
        "colab": {
          "base_uri": "https://localhost:8080/",
          "height": 67
        },
        "outputId": "3d5531b4-3248-418b-deb9-750cbfc88523"
      },
      "source": [
        "print(obj1.id, obj2.id, obj3.id, sep = \"\\n\")"
      ],
      "execution_count": 18,
      "outputs": [
        {
          "output_type": "stream",
          "text": [
            "2\n",
            "3\n",
            "4\n"
          ],
          "name": "stdout"
        }
      ]
    },
    {
      "cell_type": "code",
      "metadata": {
        "id": "ZsdaaFxNt_Z8",
        "colab_type": "code",
        "colab": {}
      },
      "source": [
        "class parent(self):\n",
        "  def __init__(self):\n",
        "    self.id = 0\n",
        "    self.name = \"\"\n",
        "    self.dob = 0\n",
        "  \n",
        "  def speak(self, words):\n",
        "    print (words, \"!\")\n",
        "  def eat(self, food):\n",
        "    print(\"having\", food)\n",
        "  def listing(self):\n",
        "    print(\"listing...\")\n",
        "\n",
        "class child(parent):\n",
        "  pass\n",
        "obj_p = parent()\n",
        "obj_c = child()  "
      ],
      "execution_count": 0,
      "outputs": []
    },
    {
      "cell_type": "code",
      "metadata": {
        "id": "t1UuwqUjwtjU",
        "colab_type": "code",
        "colab": {}
      },
      "source": [
        "class father():"
      ],
      "execution_count": 0,
      "outputs": []
    },
    {
      "cell_type": "markdown",
      "metadata": {
        "id": "Xq2UOwhkybX3",
        "colab_type": "text"
      },
      "source": [
        "###Polymorphism###\n"
      ]
    },
    {
      "cell_type": "markdown",
      "metadata": {
        "id": "yHi4jBweyan_",
        "colab_type": "text"
      },
      "source": [
        "                ###Overloading###\n",
        "                \n",
        "\n"
      ]
    },
    {
      "cell_type": "code",
      "metadata": {
        "id": "i1bS06Xt0l8r",
        "colab_type": "code",
        "colab": {
          "base_uri": "https://localhost:8080/",
          "height": 67
        },
        "outputId": "5754c207-3f2f-4790-d581-b97bbccb5c2c"
      },
      "source": [
        "class abc():\n",
        "  def plus(self, *n):\n",
        "    print(sum(n))   \n",
        "\n",
        "o1 = abc()\n",
        "o1.plus(1,2)\n",
        "o1.plus(2.3,2.5)\n",
        "o1.plus(1,1.2,2.4)"
      ],
      "execution_count": 21,
      "outputs": [
        {
          "output_type": "stream",
          "text": [
            "3\n",
            "4.8\n",
            "4.6\n"
          ],
          "name": "stdout"
        }
      ]
    },
    {
      "cell_type": "code",
      "metadata": {
        "id": "-1tRQW6t0s_R",
        "colab_type": "code",
        "colab": {}
      },
      "source": [
        ""
      ],
      "execution_count": 0,
      "outputs": []
    }
  ]
}