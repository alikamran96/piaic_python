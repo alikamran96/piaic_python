{
  "nbformat": 4,
  "nbformat_minor": 0,
  "metadata": {
    "colab": {
      "name": "Untitled5.ipynb",
      "provenance": [],
      "toc_visible": true,
      "authorship_tag": "ABX9TyO66e077UHfsf4u2rC2NkZG",
      "include_colab_link": true
    },
    "kernelspec": {
      "name": "python3",
      "display_name": "Python 3"
    }
  },
  "cells": [
    {
      "cell_type": "markdown",
      "metadata": {
        "id": "view-in-github",
        "colab_type": "text"
      },
      "source": [
        "<a href=\"https://colab.research.google.com/github/alikamran96/piaic_python/blob/master/incomplete%20file%20handling.ipynb\" target=\"_parent\"><img src=\"https://colab.research.google.com/assets/colab-badge.svg\" alt=\"Open In Colab\"/></a>"
      ]
    },
    {
      "cell_type": "markdown",
      "metadata": {
        "id": "6Rrkg4AGfoyU",
        "colab_type": "text"
      },
      "source": [
        "### FILE HANDLING ###\n"
      ]
    },
    {
      "cell_type": "markdown",
      "metadata": {
        "id": "bUhpN4V9j47q",
        "colab_type": "text"
      },
      "source": [
        "for freelancing\n",
        "\n",
        "\n",
        "selenium\n",
        "\n",
        "pyqts\n",
        "\n",
        "py autogui\n",
        "\n",
        "Beautiful Soap"
      ]
    },
    {
      "cell_type": "code",
      "metadata": {
        "id": "QPDH-Sp2cX1l",
        "colab_type": "code",
        "colab": {
          "base_uri": "https://localhost:8080/",
          "height": 162
        },
        "outputId": "23904937-3b58-4f21-c7ce-892d35005603"
      },
      "source": [
        "open(\"abc py.txt\")"
      ],
      "execution_count": 1,
      "outputs": [
        {
          "output_type": "error",
          "ename": "FileNotFoundError",
          "evalue": "ignored",
          "traceback": [
            "\u001b[0;31m---------------------------------------------------------------------------\u001b[0m",
            "\u001b[0;31mFileNotFoundError\u001b[0m                         Traceback (most recent call last)",
            "\u001b[0;32m<ipython-input-1-7fa231d3f3d8>\u001b[0m in \u001b[0;36m<module>\u001b[0;34m()\u001b[0m\n\u001b[0;32m----> 1\u001b[0;31m \u001b[0mopen\u001b[0m\u001b[0;34m(\u001b[0m\u001b[0;34m\"README.md\"\u001b[0m\u001b[0;34m)\u001b[0m\u001b[0;34m\u001b[0m\u001b[0;34m\u001b[0m\u001b[0m\n\u001b[0m",
            "\u001b[0;31mFileNotFoundError\u001b[0m: [Errno 2] No such file or directory: 'README.md'"
          ]
        }
      ]
    }
  ]
}