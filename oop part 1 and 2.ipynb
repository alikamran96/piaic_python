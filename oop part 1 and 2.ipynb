{
  "nbformat": 4,
  "nbformat_minor": 0,
  "metadata": {
    "colab": {
      "name": "Untitled3.ipynb",
      "provenance": [],
      "collapsed_sections": [],
      "include_colab_link": true
    },
    "kernelspec": {
      "name": "python3",
      "display_name": "Python 3"
    }
  },
  "cells": [
    {
      "cell_type": "markdown",
      "metadata": {
        "id": "view-in-github",
        "colab_type": "text"
      },
      "source": [
        "<a href=\"https://colab.research.google.com/github/alikamran96/piaic_python/blob/master/oop%20part%201%20and%202.ipynb\" target=\"_parent\"><img src=\"https://colab.research.google.com/assets/colab-badge.svg\" alt=\"Open In Colab\"/></a>"
      ]
    },
    {
      "cell_type": "markdown",
      "metadata": {
        "id": "xF8QNEs3UErR",
        "colab_type": "text"
      },
      "source": [
        "### Object Oriented Programming###\n",
        " \n",
        "1. Inheritance\n",
        "\n",
        "2. Polymorphism\n",
        "\n",
        "3. Encapsulation\n",
        "\n",
        "4. Abstraction\n",
        " "
      ]
    },
    {
      "cell_type": "code",
      "metadata": {
        "id": "Cmt4dYIYOmwR",
        "colab_type": "code",
        "colab": {}
      },
      "source": [
        "s1name = \"An\"\n",
        "s1fname = \"Af\"\n",
        "s1age = 20\n",
        "def s1speaks(): pass\n",
        "def s1listing(): pass\n",
        "def e2ting(): pass"
      ],
      "execution_count": 0,
      "outputs": []
    },
    {
      "cell_type": "code",
      "metadata": {
        "id": "Y0gGbUDXg20g",
        "colab_type": "code",
        "colab": {}
      },
      "source": [
        "###oop###\n",
        "class student(): #class\n",
        "  pass           #class definition\n",
        "\n",
        "s1 = student()   #instance/obj calling constructor\n",
        "s2 = student()\n",
        "s3 = student()"
      ],
      "execution_count": 0,
      "outputs": []
    },
    {
      "cell_type": "code",
      "metadata": {
        "id": "DcnAZLUThfJG",
        "colab_type": "code",
        "outputId": "969c5757-26af-405f-8041-c66203a8f5b0",
        "colab": {
          "base_uri": "https://localhost:8080/",
          "height": 34
        }
      },
      "source": [
        "class student():               #class\n",
        "  def __init__(self, sid, name):     #constructor\n",
        "    self.sid = sid             #attributes/prpoerties/datamember/field\n",
        "    self.name = name\n",
        "    self.fname = \"\"\n",
        "    self.age = 0\n",
        "\n",
        "def login(self, user, password):\n",
        "  self.name = user\n",
        "  print(\"welcome\", self.name)\n",
        "\n",
        "def logout(self): pass  #method\n",
        "\n",
        "def quiz_attempt(self):\n",
        "  pass\n",
        "s1 = student(1, \"Ali\")\n",
        "s1.name   "
      ],
      "execution_count": 0,
      "outputs": [
        {
          "output_type": "execute_result",
          "data": {
            "text/plain": [
              "'Ali'"
            ]
          },
          "metadata": {
            "tags": []
          },
          "execution_count": 2
        }
      ]
    },
    {
      "cell_type": "code",
      "metadata": {
        "id": "zYWClo1Hjt1J",
        "colab_type": "code",
        "outputId": "83dc656e-9269-457e-a07e-9dce6f95efe3",
        "colab": {
          "base_uri": "https://localhost:8080/",
          "height": 34
        }
      },
      "source": [
        "s1 = student(1, \"Ali\")\n",
        "s1.name"
      ],
      "execution_count": 0,
      "outputs": [
        {
          "output_type": "execute_result",
          "data": {
            "text/plain": [
              "'Ali'"
            ]
          },
          "metadata": {
            "tags": []
          },
          "execution_count": 4
        }
      ]
    },
    {
      "cell_type": "markdown",
      "metadata": {
        "id": "d4f80gCrklJR",
        "colab_type": "text"
      },
      "source": [
        "##Class Variable##\n"
      ]
    },
    {
      "cell_type": "code",
      "metadata": {
        "id": "nYVaoJ53ki3u",
        "colab_type": "code",
        "outputId": "48b41b41-61e5-4af5-c45e-d15e325b3799",
        "colab": {
          "base_uri": "https://localhost:8080/",
          "height": 34
        }
      },
      "source": [
        "class A():\n",
        "  counter = 0  #class variable\n",
        "  def __init__(self):\n",
        "    \n",
        "    self.id = A.counter + 1\n",
        "    self.name = \"\" \n",
        "    self.fname =\"\"\n",
        "    \n",
        "    A.counter += 1 #update class variable  \n",
        "obj1= A()\n",
        "obj1.id\n",
        "obj1 = A()\n",
        "obj2 = A()\n",
        "obj3 = A()\n",
        " \n",
        "#obj1.counter #calling class variable with obj ref\n",
        "#A.counter   # calling class variable with class ref\n"
      ],
      "execution_count": 0,
      "outputs": [
        {
          "output_type": "execute_result",
          "data": {
            "text/plain": [
              "4"
            ]
          },
          "metadata": {
            "tags": []
          },
          "execution_count": 19
        }
      ]
    },
    {
      "cell_type": "code",
      "metadata": {
        "id": "XoDA7MDSmwk7",
        "colab_type": "code",
        "outputId": "3d5531b4-3248-418b-deb9-750cbfc88523",
        "colab": {
          "base_uri": "https://localhost:8080/",
          "height": 67
        }
      },
      "source": [
        "print(obj1.id, obj2.id, obj3.id, sep = \"\\n\")"
      ],
      "execution_count": 0,
      "outputs": [
        {
          "output_type": "stream",
          "text": [
            "2\n",
            "3\n",
            "4\n"
          ],
          "name": "stdout"
        }
      ]
    },
    {
      "cell_type": "code",
      "metadata": {
        "id": "ZsdaaFxNt_Z8",
        "colab_type": "code",
        "colab": {}
      },
      "source": [
        "class parent(self):\n",
        "  def __init__(self):\n",
        "    self.id = 0\n",
        "    self.name = \"\"\n",
        "    self.dob = 0\n",
        "  \n",
        "  def speak(self, words):\n",
        "    print (words, \"!\")\n",
        "  def eat(self, food):\n",
        "    print(\"having\", food)\n",
        "  def listing(self):\n",
        "    print(\"listing...\")\n",
        "\n",
        "class child(parent):\n",
        "  pass\n",
        "obj_p = parent()\n",
        "obj_c = child()  "
      ],
      "execution_count": 0,
      "outputs": []
    },
    {
      "cell_type": "code",
      "metadata": {
        "id": "t1UuwqUjwtjU",
        "colab_type": "code",
        "colab": {}
      },
      "source": [
        "class father():"
      ],
      "execution_count": 0,
      "outputs": []
    },
    {
      "cell_type": "markdown",
      "metadata": {
        "id": "Xq2UOwhkybX3",
        "colab_type": "text"
      },
      "source": [
        "###Polymorphism###\n"
      ]
    },
    {
      "cell_type": "markdown",
      "metadata": {
        "id": "yHi4jBweyan_",
        "colab_type": "text"
      },
      "source": [
        "               # Overloading #"
      ]
    },
    {
      "cell_type": "code",
      "metadata": {
        "id": "i1bS06Xt0l8r",
        "colab_type": "code",
        "outputId": "5754c207-3f2f-4790-d581-b97bbccb5c2c",
        "colab": {
          "base_uri": "https://localhost:8080/",
          "height": 67
        }
      },
      "source": [
        "class abc():\n",
        "  def plus(self, *n):\n",
        "    print(sum(n))   \n",
        "\n",
        "o1 = abc()\n",
        "o1.plus(1,2)\n",
        "o1.plus(2.3,2.5)\n",
        "o1.plus(1,1.2,2.4)"
      ],
      "execution_count": 0,
      "outputs": [
        {
          "output_type": "stream",
          "text": [
            "3\n",
            "4.8\n",
            "4.6\n"
          ],
          "name": "stdout"
        }
      ]
    },
    {
      "cell_type": "markdown",
      "metadata": {
        "id": "z0PfpI7Ea8Uo",
        "colab_type": "text"
      },
      "source": [
        "### Encapsulation ###\n"
      ]
    },
    {
      "cell_type": "code",
      "metadata": {
        "id": "-1tRQW6t0s_R",
        "colab_type": "code",
        "colab": {
          "base_uri": "https://localhost:8080/",
          "height": 50
        },
        "outputId": "71406257-95e8-431a-aca8-8005f544d16f"
      },
      "source": [
        "class A():\n",
        "  def __init__(self, name, age):\n",
        "    self.__sname = name          #double dash makes it a private attribute.\n",
        "    self.__age = age         \n",
        "\n",
        "  def dis(self):\n",
        "    print(\"Name\",self.__sname)\n",
        "    print(\"Age\", self.__age)\n",
        "  \n",
        "  def change(self, a, b):\n",
        "    self.__sname = a\n",
        "    self.__age = b\n",
        "  \n",
        "  def info():\n",
        "\n",
        "s1 = A(\"Ali\", 20)\n",
        "s1.dis()"
      ],
      "execution_count": 12,
      "outputs": [
        {
          "output_type": "stream",
          "text": [
            "Name Ali\n",
            "Age 20\n"
          ],
          "name": "stdout"
        }
      ]
    },
    {
      "cell_type": "code",
      "metadata": {
        "id": "EZEmLzdvdSd0",
        "colab_type": "code",
        "colab": {
          "base_uri": "https://localhost:8080/",
          "height": 34
        },
        "outputId": "5b59659c-a7c5-4efb-99c3-a4822e943045"
      },
      "source": [
        "s1._A__sname  #IN python there is a trick way to access private attributes outside with class reference. In this format only ._A__sname"
      ],
      "execution_count": 10,
      "outputs": [
        {
          "output_type": "execute_result",
          "data": {
            "text/plain": [
              "'Ali'"
            ]
          },
          "metadata": {
            "tags": []
          },
          "execution_count": 10
        }
      ]
    },
    {
      "cell_type": "markdown",
      "metadata": {
        "id": "FMWxKlNMg0Vd",
        "colab_type": "text"
      },
      "source": [
        "### Abstraction ###"
      ]
    },
    {
      "cell_type": "code",
      "metadata": {
        "id": "hgQ-s3jje3bd",
        "colab_type": "code",
        "colab": {
          "base_uri": "https://localhost:8080/",
          "height": 313
        },
        "outputId": "abe62eec-085d-4a59-c5eb-1ec9f5b5722d"
      },
      "source": [
        "class Employee():\n",
        "  def __init__(self, name, age):\n",
        "    self.name = name\n",
        "    self.age = age\n",
        "\n",
        "class dept_computers():\n",
        "  def __init__(self, name, age, timing):\n",
        "    self.name = name\n",
        "    self.age = age\n",
        "    self.timing = timing\n",
        "\n",
        "class person_record(Employee, dept_computers):\n",
        "  pass\n",
        "  rec1 = Employee()\n"
      ],
      "execution_count": 23,
      "outputs": [
        {
          "output_type": "error",
          "ename": "TypeError",
          "evalue": "ignored",
          "traceback": [
            "\u001b[0;31m---------------------------------------------------------------------------\u001b[0m",
            "\u001b[0;31mTypeError\u001b[0m                                 Traceback (most recent call last)",
            "\u001b[0;32m<ipython-input-23-daf5e1652844>\u001b[0m in \u001b[0;36m<module>\u001b[0;34m()\u001b[0m\n\u001b[1;32m     10\u001b[0m     \u001b[0mself\u001b[0m\u001b[0;34m.\u001b[0m\u001b[0mtiming\u001b[0m \u001b[0;34m=\u001b[0m \u001b[0mtiming\u001b[0m\u001b[0;34m\u001b[0m\u001b[0;34m\u001b[0m\u001b[0m\n\u001b[1;32m     11\u001b[0m \u001b[0;34m\u001b[0m\u001b[0m\n\u001b[0;32m---> 12\u001b[0;31m \u001b[0;32mclass\u001b[0m \u001b[0mperson_record\u001b[0m\u001b[0;34m(\u001b[0m\u001b[0mEmployee\u001b[0m\u001b[0;34m,\u001b[0m \u001b[0mdept_computers\u001b[0m\u001b[0;34m)\u001b[0m\u001b[0;34m:\u001b[0m\u001b[0;34m\u001b[0m\u001b[0;34m\u001b[0m\u001b[0m\n\u001b[0m\u001b[1;32m     13\u001b[0m   \u001b[0;32mpass\u001b[0m\u001b[0;34m\u001b[0m\u001b[0;34m\u001b[0m\u001b[0m\n\u001b[1;32m     14\u001b[0m   \u001b[0mrec1\u001b[0m \u001b[0;34m=\u001b[0m \u001b[0mEmployee\u001b[0m\u001b[0;34m(\u001b[0m\u001b[0;34m)\u001b[0m\u001b[0;34m\u001b[0m\u001b[0;34m\u001b[0m\u001b[0m\n",
            "\u001b[0;32m<ipython-input-23-daf5e1652844>\u001b[0m in \u001b[0;36mperson_record\u001b[0;34m()\u001b[0m\n\u001b[1;32m     12\u001b[0m \u001b[0;32mclass\u001b[0m \u001b[0mperson_record\u001b[0m\u001b[0;34m(\u001b[0m\u001b[0mEmployee\u001b[0m\u001b[0;34m,\u001b[0m \u001b[0mdept_computers\u001b[0m\u001b[0;34m)\u001b[0m\u001b[0;34m:\u001b[0m\u001b[0;34m\u001b[0m\u001b[0;34m\u001b[0m\u001b[0m\n\u001b[1;32m     13\u001b[0m   \u001b[0;32mpass\u001b[0m\u001b[0;34m\u001b[0m\u001b[0;34m\u001b[0m\u001b[0m\n\u001b[0;32m---> 14\u001b[0;31m   \u001b[0mrec1\u001b[0m \u001b[0;34m=\u001b[0m \u001b[0mEmployee\u001b[0m\u001b[0;34m(\u001b[0m\u001b[0;34m)\u001b[0m\u001b[0;34m\u001b[0m\u001b[0;34m\u001b[0m\u001b[0m\n\u001b[0m",
            "\u001b[0;31mTypeError\u001b[0m: __init__() missing 2 required positional arguments: 'name' and 'age'"
          ]
        }
      ]
    },
    {
      "cell_type": "markdown",
      "metadata": {
        "id": "aOajlBkkqG0A",
        "colab_type": "text"
      },
      "source": [
        "### Exception Handling ###"
      ]
    },
    {
      "cell_type": "markdown",
      "metadata": {
        "id": "p1etP2MH0Rbu",
        "colab_type": "text"
      },
      "source": [
        "try: \n",
        "  \n",
        "  your code\n",
        "\n",
        "except: (ErrClass1, ErrClass2....):\n",
        "  execute code if error generated\n",
        "\n",
        "else:\n",
        "  execute code if not generated\n",
        "\n",
        "finally:\n",
        "  always run this block      \n",
        "  "
      ]
    },
    {
      "cell_type": "code",
      "metadata": {
        "id": "MRSibXPTqV6q",
        "colab_type": "code",
        "colab": {
          "base_uri": "https://localhost:8080/",
          "height": 134
        },
        "outputId": "07fe5d3a-f196-4975-d0ff-5738b255fa76"
      },
      "source": [
        "print(\"line 1\")\n",
        "print(\"line 2\")\n",
        "print(\"line 3\")\n",
        "print(\"line 4\")\n",
        "try:\n",
        "  print(7/0)\n",
        "except ZeroDivisionError:\n",
        "  print(\"Cant divide any value with zero\")\n",
        "print(\"line 6\")\n",
        "print(\"line 7\")"
      ],
      "execution_count": 25,
      "outputs": [
        {
          "output_type": "stream",
          "text": [
            "line 1\n",
            "line 2\n",
            "line 3\n",
            "line 4\n",
            "Cant divide any value with zero\n",
            "line 6\n",
            "line 7\n"
          ],
          "name": "stdout"
        }
      ]
    },
    {
      "cell_type": "code",
      "metadata": {
        "id": "MVa-UFU8qXEW",
        "colab_type": "code",
        "colab": {
          "base_uri": "https://localhost:8080/",
          "height": 34
        },
        "outputId": "94a846f8-8ee9-476e-ff49-6d03ae244f60"
      },
      "source": [
        "try:\n",
        "  open(\"abc.txt\")\n",
        "except FileNotFoundError:\n",
        "  print(\"File Not Available\")  "
      ],
      "execution_count": 26,
      "outputs": [
        {
          "output_type": "stream",
          "text": [
            "File Not Available\n"
          ],
          "name": "stdout"
        }
      ]
    },
    {
      "cell_type": "code",
      "metadata": {
        "id": "rzmGqyby2Z5A",
        "colab_type": "code",
        "colab": {
          "base_uri": "https://localhost:8080/",
          "height": 34
        },
        "outputId": "936f7222-1c14-459b-9fb6-28bc5a17a722"
      },
      "source": [
        "try:\n",
        "  a=[\"a\", \"b\", \"c\"]\n",
        "  print(a[5])\n",
        "except IndexError:\n",
        "  print(\"not available in this index\")  \n"
      ],
      "execution_count": 29,
      "outputs": [
        {
          "output_type": "stream",
          "text": [
            "not available in this index\n"
          ],
          "name": "stdout"
        }
      ]
    },
    {
      "cell_type": "code",
      "metadata": {
        "id": "F6rYIupV3WuK",
        "colab_type": "code",
        "colab": {
          "base_uri": "https://localhost:8080/",
          "height": 67
        },
        "outputId": "fb5aac39-776c-498e-bab6-cc4dbbbcf43f"
      },
      "source": [
        "try:\n",
        "  a = [\"a\", \"b\"]\n",
        "  print(a[5])\n",
        "except IndexError:\n",
        "  print(\"Index out of range\")\n",
        "\n",
        "try:\n",
        "  open(\"abc.txt\")\n",
        "except FileNotFoundError:\n",
        "  print(\"File not Found\")\n",
        "\n",
        "try:\n",
        "  print(7/0)\n",
        "except ZeroDivisionError:\n",
        "  print(\"Cant divide by zero\")\n",
        "\n"
      ],
      "execution_count": 32,
      "outputs": [
        {
          "output_type": "stream",
          "text": [
            "Index out of range\n",
            "File not Found\n",
            "Cant divide by zero\n"
          ],
          "name": "stdout"
        }
      ]
    },
    {
      "cell_type": "code",
      "metadata": {
        "id": "PpCqrPxM4giI",
        "colab_type": "code",
        "colab": {
          "base_uri": "https://localhost:8080/",
          "height": 34
        },
        "outputId": "8cebf430-f2eb-4bbb-a93f-f7c95e0c2e54"
      },
      "source": [
        "try:\n",
        "  7/0\n",
        "except Exception as e: \n",
        "  print(\"problem\", e)"
      ],
      "execution_count": 33,
      "outputs": [
        {
          "output_type": "stream",
          "text": [
            "problem division by zero\n"
          ],
          "name": "stdout"
        }
      ]
    },
    {
      "cell_type": "code",
      "metadata": {
        "id": "MpQ8EeRt5CAM",
        "colab_type": "code",
        "colab": {
          "base_uri": "https://localhost:8080/",
          "height": 34
        },
        "outputId": "9b6b47d3-5df8-48c5-90b9-ea22b68db5fb"
      },
      "source": [
        "try:\n",
        "  a=[\"a\", \"b\"]\n",
        "  print(a[7])\n",
        "except Exception as e:\n",
        "  print(\"problem\",e)\n"
      ],
      "execution_count": 34,
      "outputs": [
        {
          "output_type": "stream",
          "text": [
            "problem list index out of range\n"
          ],
          "name": "stdout"
        }
      ]
    },
    {
      "cell_type": "code",
      "metadata": {
        "id": "sezrWT3Y5XZp",
        "colab_type": "code",
        "colab": {
          "base_uri": "https://localhost:8080/",
          "height": 313
        },
        "outputId": "929ba4b0-9a9b-4758-fa53-af0952a6d48a"
      },
      "source": [
        "class student():\n",
        "  def __init__(self, name, age):\n",
        "    if age < 18 or age > 60:\n",
        "      raise StudentAgeError(\"age should be in range 18 to 60\")\n",
        "    self.name = name\n",
        "    self.age = age\n",
        "class StudentAgeError(Exception):\n",
        "  pass\n",
        "s1 = student(87, \"Ali\")"
      ],
      "execution_count": 48,
      "outputs": [
        {
          "output_type": "error",
          "ename": "TypeError",
          "evalue": "ignored",
          "traceback": [
            "\u001b[0;31m---------------------------------------------------------------------------\u001b[0m",
            "\u001b[0;31mTypeError\u001b[0m                                 Traceback (most recent call last)",
            "\u001b[0;32m<ipython-input-48-5325fd161702>\u001b[0m in \u001b[0;36m<module>\u001b[0;34m()\u001b[0m\n\u001b[1;32m      7\u001b[0m \u001b[0;32mclass\u001b[0m \u001b[0mStudentAgeError\u001b[0m\u001b[0;34m(\u001b[0m\u001b[0mException\u001b[0m\u001b[0;34m)\u001b[0m\u001b[0;34m:\u001b[0m\u001b[0;34m\u001b[0m\u001b[0;34m\u001b[0m\u001b[0m\n\u001b[1;32m      8\u001b[0m   \u001b[0;32mpass\u001b[0m\u001b[0;34m\u001b[0m\u001b[0;34m\u001b[0m\u001b[0m\n\u001b[0;32m----> 9\u001b[0;31m \u001b[0ms1\u001b[0m \u001b[0;34m=\u001b[0m \u001b[0mstudent\u001b[0m\u001b[0;34m(\u001b[0m\u001b[0;36m87\u001b[0m\u001b[0;34m,\u001b[0m \u001b[0;34m\"Ali\"\u001b[0m\u001b[0;34m)\u001b[0m\u001b[0;34m\u001b[0m\u001b[0;34m\u001b[0m\u001b[0m\n\u001b[0m",
            "\u001b[0;32m<ipython-input-48-5325fd161702>\u001b[0m in \u001b[0;36m__init__\u001b[0;34m(self, name, age)\u001b[0m\n\u001b[1;32m      1\u001b[0m \u001b[0;32mclass\u001b[0m \u001b[0mstudent\u001b[0m\u001b[0;34m(\u001b[0m\u001b[0;34m)\u001b[0m\u001b[0;34m:\u001b[0m\u001b[0;34m\u001b[0m\u001b[0;34m\u001b[0m\u001b[0m\n\u001b[1;32m      2\u001b[0m   \u001b[0;32mdef\u001b[0m \u001b[0m__init__\u001b[0m\u001b[0;34m(\u001b[0m\u001b[0mself\u001b[0m\u001b[0;34m,\u001b[0m \u001b[0mname\u001b[0m\u001b[0;34m,\u001b[0m \u001b[0mage\u001b[0m\u001b[0;34m)\u001b[0m\u001b[0;34m:\u001b[0m\u001b[0;34m\u001b[0m\u001b[0;34m\u001b[0m\u001b[0m\n\u001b[0;32m----> 3\u001b[0;31m     \u001b[0;32mif\u001b[0m \u001b[0mage\u001b[0m \u001b[0;34m<\u001b[0m \u001b[0;36m18\u001b[0m \u001b[0;32mor\u001b[0m \u001b[0mage\u001b[0m \u001b[0;34m>\u001b[0m \u001b[0;36m60\u001b[0m\u001b[0;34m:\u001b[0m\u001b[0;34m\u001b[0m\u001b[0;34m\u001b[0m\u001b[0m\n\u001b[0m\u001b[1;32m      4\u001b[0m       \u001b[0;32mraise\u001b[0m \u001b[0mStudentAgeError\u001b[0m\u001b[0;34m(\u001b[0m\u001b[0;34m\"age should be in range 18 to 60\"\u001b[0m\u001b[0;34m)\u001b[0m\u001b[0;34m\u001b[0m\u001b[0;34m\u001b[0m\u001b[0m\n\u001b[1;32m      5\u001b[0m     \u001b[0mself\u001b[0m\u001b[0;34m.\u001b[0m\u001b[0mname\u001b[0m \u001b[0;34m=\u001b[0m \u001b[0mname\u001b[0m\u001b[0;34m\u001b[0m\u001b[0;34m\u001b[0m\u001b[0m\n",
            "\u001b[0;31mTypeError\u001b[0m: '<' not supported between instances of 'str' and 'int'"
          ]
        }
      ]
    }
  ]
}